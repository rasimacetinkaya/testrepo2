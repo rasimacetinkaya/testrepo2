{
  "metadata": {
    "kernelspec": {
      "name": "python",
      "display_name": "Python (Pyodide)",
      "language": "python"
    },
    "language_info": {
      "codemirror_mode": {
        "name": "python",
        "version": 3
      },
      "file_extension": ".py",
      "mimetype": "text/x-python",
      "name": "python",
      "nbconvert_exporter": "python",
      "pygments_lexer": "ipython3",
      "version": "3.8"
    }
  },
  "nbformat_minor": 5,
  "nbformat": 4,
  "cells": [
    {
      "id": "79b0a435-eef2-4371-968a-9d62630f723f",
      "cell_type": "markdown",
      "source": "# Data Science Tools and Ecosystem\nIn this notebook, Data Science Tools and Ecosystem are summarized",
      "metadata": {}
    },
    {
      "id": "06578627-852d-4ba9-9523-b4ce08421d19",
      "cell_type": "markdown",
      "source": "# Some of the popular languages that Data Scientists use are: \n1. Python\n2. R\n3. SQL",
      "metadata": {}
    },
    {
      "id": "cbed738c-9335-49d4-bfb3-046dc34086a4",
      "cell_type": "markdown",
      "source": "# Some of the commonly used libraries used by Data Scientists include: \n1. Pandas\n2. NumPy\n3. TensorFlow\n",
      "metadata": {}
    },
    {
      "id": "b792a970-6a77-46d5-a23a-9c12987ab668",
      "cell_type": "markdown",
      "source": "# Data Science Tools\n|Data Science Tools|\n|-------------------|\n|RStudio|\n|Jupiter Notebook|\n|Google Colab|",
      "metadata": {}
    },
    {
      "id": "62f357c9-5dda-45e0-bb5c-ac5328290907",
      "cell_type": "markdown",
      "source": "### Below are a few  expamples of evaluating arithmetic expressions in Python",
      "metadata": {}
    },
    {
      "id": "e71a38ca-c8ea-457c-83d9-0f7919809745",
      "cell_type": "code",
      "source": "#This is a simple arithmetic expression to multiply then add integers\n(3 * 4) + 5",
      "metadata": {
        "trusted": true
      },
      "outputs": [
        {
          "execution_count": 9,
          "output_type": "execute_result",
          "data": {
            "text/plain": "17"
          },
          "metadata": {}
        }
      ],
      "execution_count": 9
    },
    {
      "id": "37223469-a507-44d6-9f3e-9fb0cb40ff8e",
      "cell_type": "code",
      "source": "#This will convert 200 minutes to hours by dividing by 60\n200 / 60\n",
      "metadata": {
        "trusted": true
      },
      "outputs": [
        {
          "execution_count": 8,
          "output_type": "execute_result",
          "data": {
            "text/plain": "3.3333333333333335"
          },
          "metadata": {}
        }
      ],
      "execution_count": 8
    },
    {
      "id": "c7f0f54f-5ecb-44b9-a03f-22fda1abf198",
      "cell_type": "code",
      "source": "#This means 3.33 hours",
      "metadata": {
        "trusted": true
      },
      "outputs": [],
      "execution_count": null
    },
    {
      "id": "468a9495-8931-4d35-8b7c-201d5f18c164",
      "cell_type": "markdown",
      "source": "# **Objectives:**\n- List popular languages for Data Science\n- Perform arithmetic expressions in Python\n- List commondly used Data Science libraries",
      "metadata": {}
    },
    {
      "id": "d61f607f-1891-401d-b2ab-06ae663073d9",
      "cell_type": "markdown",
      "source": "## Author\nRasima Cetinkaya",
      "metadata": {}
    },
    {
      "id": "12699ddd-c074-40d4-8b3a-b267530a7147",
      "cell_type": "code",
      "source": "",
      "metadata": {
        "trusted": true
      },
      "outputs": [],
      "execution_count": null
    },
    {
      "id": "1c3354cd-8f2a-40a0-acb9-8d59fa997dec",
      "cell_type": "code",
      "source": "",
      "metadata": {
        "trusted": true
      },
      "outputs": [],
      "execution_count": null
    }
  ]
}